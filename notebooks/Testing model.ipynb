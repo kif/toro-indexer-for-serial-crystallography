{
 "cells": [
  {
   "cell_type": "code",
   "execution_count": 1,
   "id": "ddcea38b",
   "metadata": {},
   "outputs": [],
   "source": [
    "import sys\n",
    "sys.path.append('../')"
   ]
  },
  {
   "cell_type": "code",
   "execution_count": 16,
   "id": "67a845d3",
   "metadata": {},
   "outputs": [],
   "source": [
    "from models.indexer_model import IndexerModule\n",
    "import lovely_tensors as lt\n",
    "lt.monkey_patch()"
   ]
  },
  {
   "cell_type": "code",
   "execution_count": 44,
   "id": "c032ef9a",
   "metadata": {},
   "outputs": [],
   "source": [
    "im = IndexerModule(\n",
    "    lattice_size=50000, \n",
    "    num_iterations=5,\n",
    "    error_precision=0.0012,\n",
    "    filter_precision=0.00075,\n",
    "    filter_min_num_spots=6\n",
    ")"
   ]
  },
  {
   "cell_type": "code",
   "execution_count": 45,
   "id": "c2d9638d",
   "metadata": {},
   "outputs": [
    {
     "data": {
      "text/plain": [
       "tensor[74, 3] n=222 x∈[-0.313, 0.313] μ=-1.342e-10 σ=0.121"
      ]
     },
     "execution_count": 45,
     "metadata": {},
     "output_type": "execute_result"
    }
   ],
   "source": [
    "import torch\n",
    "\n",
    "initial_cell = torch.tensor([\n",
    "    [78.3, 0., 0.],\n",
    "    [0., 78.3, 0.],\n",
    "    [0., 0., 37.96]\n",
    "])\n",
    "\n",
    "reciprocal_spots = torch.tensor([\n",
    "    [-0.2740,  0.0319,  0.0440],\n",
    "    [ 0.0142, -0.1314,  0.0099],\n",
    "    [-0.0742, -0.2719,  0.0460],\n",
    "    [ 0.0839, -0.0099,  0.0040],\n",
    "    [-0.1303, -0.2077,  0.0346],\n",
    "    [ 0.1650, -0.0412,  0.0165],\n",
    "    [-0.0526, -0.0877,  0.0059],\n",
    "    [ 0.0984,  0.1081,  0.0121],\n",
    "    [-0.2149,  0.0320,  0.0270],\n",
    "    [ 0.0421, -0.0937,  0.0060],\n",
    "    [-0.0844,  0.1088,  0.0108],\n",
    "    [-0.1012,  0.0388,  0.0066],\n",
    "    [ 0.2421,  0.1052,  0.0402],\n",
    "    [ 0.0258,  0.0735,  0.0034],\n",
    "    [ 0.0420,  0.2995,  0.0531],\n",
    "    [-0.0561, -0.0402,  0.0027],\n",
    "    [-0.2467, -0.1653,  0.0512],\n",
    "    [-0.1013,  0.0284,  0.0063],\n",
    "    [-0.1430, -0.0305,  0.0121],\n",
    "    [ 0.0715, -0.0967,  0.0082],\n",
    "    [ 0.2114, -0.1623,  0.0410],\n",
    "    [-0.0933,  0.1838,  0.0243],\n",
    "    [ 0.0372,  0.2275,  0.0305],\n",
    "    [ 0.1390, -0.1969,  0.0334],\n",
    "    [-0.1088,  0.2650,  0.0475],\n",
    "    [-0.0223,  0.2774,  0.0448],\n",
    "    [-0.0937, -0.2198,  0.0328],\n",
    "    [ 0.1032,  0.2682,  0.0478],\n",
    "    [ 0.0218, -0.1213,  0.0086],\n",
    "    [-0.2295, -0.2075,  0.0557],\n",
    "    [ 0.0903, -0.3135,  0.0622],\n",
    "    [ 0.0341,  0.0573,  0.0025],\n",
    "    [-0.1653, -0.1234,  0.0243],\n",
    "    [-0.1992,  0.1412,  0.0343],\n",
    "    [-0.1745,  0.0341,  0.0180],\n",
    "    [-0.0701,  0.0340,  0.0034],\n",
    "    [-0.0242, -0.0830,  0.0042]\n",
    "])\n",
    "reciprocal_spots = torch.cat([\n",
    "    reciprocal_spots,\n",
    "    -reciprocal_spots\n",
    "], 0)\n",
    "reciprocal_spots"
   ]
  },
  {
   "cell_type": "code",
   "execution_count": 46,
   "id": "c9ecb593",
   "metadata": {},
   "outputs": [],
   "source": [
    "# %%time\n",
    "# im(\n",
    "#     reciprocal_spots.unsqueeze(0),\n",
    "#     initial_cell,\n",
    "#     min_num_spots=8,\n",
    "#     angle_resolution=200,\n",
    "#     num_top_solutions=200\n",
    "# )"
   ]
  },
  {
   "cell_type": "code",
   "execution_count": 50,
   "id": "6193556b",
   "metadata": {},
   "outputs": [
    {
     "name": "stdout",
     "output_type": "stream",
     "text": [
      "Solution basis:\n",
      "tensor[3, 3] n=9 x∈[-60.921, 56.152] μ=12.569 σ=39.099 [[-38.397, 38.311, 56.152], [10.215, -60.921, 47.868], [32.850, 15.075, 11.966]]\n",
      "Magnitud of solution basis(a, b, c):\n",
      "tensor[3] x∈[38.073, 78.148] μ=64.764 σ=23.115 [78.071, 78.148, 38.073]\n",
      "Miller indices:\n",
      "tensor[74, 3] i32 n=222 x∈[-23, 23] μ=0. σ=7.217\n",
      "CPU times: user 363 ms, sys: 137 ms, total: 500 ms\n",
      "Wall time: 237 ms\n"
     ]
    }
   ],
   "source": [
    "%%time\n",
    "solution_successes, solution_bases, solution_indices, solution_errors, _ = im(\n",
    "        reciprocal_spots.unsqueeze(0),\n",
    "        initial_cell,\n",
    "        min_num_spots=8,\n",
    "        angle_resolution=200,\n",
    "        num_top_solutions=200\n",
    "    )\n",
    "\n",
    "\n",
    "for success, basis, solution_mask, claimed_error in zip(\n",
    "    solution_successes[0], solution_bases[0], solution_indices[0], solution_errors[0]\n",
    "):\n",
    "    print(\"Solution basis:\")\n",
    "    print(basis)\n",
    "    print(\"Magnitud of solution basis(a, b, c):\")\n",
    "    print(basis.norm(dim=-1))\n",
    "    miller_indices = torch.round(reciprocal_spots @ basis.T).int()\n",
    "    print(\"Miller indices:\")\n",
    "    print(miller_indices * solution_mask[:, None])\n",
    "    \n",
    "    break\n"
   ]
  },
  {
   "cell_type": "code",
   "execution_count": null,
   "id": "f432c371",
   "metadata": {},
   "outputs": [],
   "source": []
  }
 ],
 "metadata": {
  "kernelspec": {
   "display_name": "Python 3 (ipykernel)",
   "language": "python",
   "name": "python3"
  },
  "language_info": {
   "codemirror_mode": {
    "name": "ipython",
    "version": 3
   },
   "file_extension": ".py",
   "mimetype": "text/x-python",
   "name": "python",
   "nbconvert_exporter": "python",
   "pygments_lexer": "ipython3",
   "version": "3.9.15"
  }
 },
 "nbformat": 4,
 "nbformat_minor": 5
}
